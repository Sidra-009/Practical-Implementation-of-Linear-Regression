{
 "cells": [
  {
   "cell_type": "code",
   "execution_count": 5,
   "id": "dc1df9ec-96b9-4291-aebc-4fe01423066a",
   "metadata": {},
   "outputs": [
    {
     "name": "stdout",
     "output_type": "stream",
     "text": [
      "Sidra Saqlain\n",
      "Practical Implementation of Linear Regression\n"
     ]
    }
   ],
   "source": [
    "print(\"Sidra Saqlain\")\n",
    "print(\"Practical Implementation of Linear Regression\")"
   ]
  },
  {
   "cell_type": "code",
   "execution_count": 1,
   "id": "a48eeb49-4faa-451f-a275-4571eab49b16",
   "metadata": {},
   "outputs": [],
   "source": [
    "import numpy as np\n",
    "import pandas as pd\n",
    "import matplotlib.pyplot as plt \n",
    "import seaborn as sns"
   ]
  },
  {
   "cell_type": "code",
   "execution_count": 4,
   "id": "c7911fb0-3896-4042-a2d7-be665ec65751",
   "metadata": {},
   "outputs": [],
   "source": [
    "from sklearn.datasets import fetch_california_housing"
   ]
  },
  {
   "cell_type": "code",
   "execution_count": 9,
   "id": "eafcac2d-e917-4afe-8607-62421e1ffe70",
   "metadata": {},
   "outputs": [],
   "source": [
    "# Reading the dataset\n",
    "df=fetch_california_housing()"
   ]
  },
  {
   "cell_type": "code",
   "execution_count": 10,
   "id": "a2adfc70-e33e-4a01-b1f9-4750ac1de5d7",
   "metadata": {},
   "outputs": [
    {
     "data": {
      "text/plain": [
       "{'data': array([[   8.3252    ,   41.        ,    6.98412698, ...,    2.55555556,\n",
       "           37.88      , -122.23      ],\n",
       "        [   8.3014    ,   21.        ,    6.23813708, ...,    2.10984183,\n",
       "           37.86      , -122.22      ],\n",
       "        [   7.2574    ,   52.        ,    8.28813559, ...,    2.80225989,\n",
       "           37.85      , -122.24      ],\n",
       "        ...,\n",
       "        [   1.7       ,   17.        ,    5.20554273, ...,    2.3256351 ,\n",
       "           39.43      , -121.22      ],\n",
       "        [   1.8672    ,   18.        ,    5.32951289, ...,    2.12320917,\n",
       "           39.43      , -121.32      ],\n",
       "        [   2.3886    ,   16.        ,    5.25471698, ...,    2.61698113,\n",
       "           39.37      , -121.24      ]]),\n",
       " 'target': array([4.526, 3.585, 3.521, ..., 0.923, 0.847, 0.894]),\n",
       " 'frame': None,\n",
       " 'target_names': ['MedHouseVal'],\n",
       " 'feature_names': ['MedInc',\n",
       "  'HouseAge',\n",
       "  'AveRooms',\n",
       "  'AveBedrms',\n",
       "  'Population',\n",
       "  'AveOccup',\n",
       "  'Latitude',\n",
       "  'Longitude'],\n",
       " 'DESCR': '.. _california_housing_dataset:\\n\\nCalifornia Housing dataset\\n--------------------------\\n\\n**Data Set Characteristics:**\\n\\n    :Number of Instances: 20640\\n\\n    :Number of Attributes: 8 numeric, predictive attributes and the target\\n\\n    :Attribute Information:\\n        - MedInc        median income in block group\\n        - HouseAge      median house age in block group\\n        - AveRooms      average number of rooms per household\\n        - AveBedrms     average number of bedrooms per household\\n        - Population    block group population\\n        - AveOccup      average number of household members\\n        - Latitude      block group latitude\\n        - Longitude     block group longitude\\n\\n    :Missing Attribute Values: None\\n\\nThis dataset was obtained from the StatLib repository.\\nhttps://www.dcc.fc.up.pt/~ltorgo/Regression/cal_housing.html\\n\\nThe target variable is the median house value for California districts,\\nexpressed in hundreds of thousands of dollars ($100,000).\\n\\nThis dataset was derived from the 1990 U.S. census, using one row per census\\nblock group. A block group is the smallest geographical unit for which the U.S.\\nCensus Bureau publishes sample data (a block group typically has a population\\nof 600 to 3,000 people).\\n\\nA household is a group of people residing within a home. Since the average\\nnumber of rooms and bedrooms in this dataset are provided per household, these\\ncolumns may take surprisingly large values for block groups with few households\\nand many empty houses, such as vacation resorts.\\n\\nIt can be downloaded/loaded using the\\n:func:`sklearn.datasets.fetch_california_housing` function.\\n\\n.. topic:: References\\n\\n    - Pace, R. Kelley and Ronald Barry, Sparse Spatial Autoregressions,\\n      Statistics and Probability Letters, 33 (1997) 291-297\\n'}"
      ]
     },
     "execution_count": 10,
     "metadata": {},
     "output_type": "execute_result"
    }
   ],
   "source": [
    "df"
   ]
  },
  {
   "cell_type": "code",
   "execution_count": 11,
   "id": "fe5fb16d-e233-44f0-96f2-5b3b00b12f56",
   "metadata": {},
   "outputs": [],
   "source": [
    "dataset=pd.DataFrame(df.data)"
   ]
  },
  {
   "cell_type": "code",
   "execution_count": 12,
   "id": "219807c7-eacb-423e-8b92-56c007ef336a",
   "metadata": {},
   "outputs": [
    {
     "data": {
      "text/html": [
       "<div>\n",
       "<style scoped>\n",
       "    .dataframe tbody tr th:only-of-type {\n",
       "        vertical-align: middle;\n",
       "    }\n",
       "\n",
       "    .dataframe tbody tr th {\n",
       "        vertical-align: top;\n",
       "    }\n",
       "\n",
       "    .dataframe thead th {\n",
       "        text-align: right;\n",
       "    }\n",
       "</style>\n",
       "<table border=\"1\" class=\"dataframe\">\n",
       "  <thead>\n",
       "    <tr style=\"text-align: right;\">\n",
       "      <th></th>\n",
       "      <th>0</th>\n",
       "      <th>1</th>\n",
       "      <th>2</th>\n",
       "      <th>3</th>\n",
       "      <th>4</th>\n",
       "      <th>5</th>\n",
       "      <th>6</th>\n",
       "      <th>7</th>\n",
       "    </tr>\n",
       "  </thead>\n",
       "  <tbody>\n",
       "    <tr>\n",
       "      <th>0</th>\n",
       "      <td>8.3252</td>\n",
       "      <td>41.0</td>\n",
       "      <td>6.984127</td>\n",
       "      <td>1.023810</td>\n",
       "      <td>322.0</td>\n",
       "      <td>2.555556</td>\n",
       "      <td>37.88</td>\n",
       "      <td>-122.23</td>\n",
       "    </tr>\n",
       "    <tr>\n",
       "      <th>1</th>\n",
       "      <td>8.3014</td>\n",
       "      <td>21.0</td>\n",
       "      <td>6.238137</td>\n",
       "      <td>0.971880</td>\n",
       "      <td>2401.0</td>\n",
       "      <td>2.109842</td>\n",
       "      <td>37.86</td>\n",
       "      <td>-122.22</td>\n",
       "    </tr>\n",
       "    <tr>\n",
       "      <th>2</th>\n",
       "      <td>7.2574</td>\n",
       "      <td>52.0</td>\n",
       "      <td>8.288136</td>\n",
       "      <td>1.073446</td>\n",
       "      <td>496.0</td>\n",
       "      <td>2.802260</td>\n",
       "      <td>37.85</td>\n",
       "      <td>-122.24</td>\n",
       "    </tr>\n",
       "    <tr>\n",
       "      <th>3</th>\n",
       "      <td>5.6431</td>\n",
       "      <td>52.0</td>\n",
       "      <td>5.817352</td>\n",
       "      <td>1.073059</td>\n",
       "      <td>558.0</td>\n",
       "      <td>2.547945</td>\n",
       "      <td>37.85</td>\n",
       "      <td>-122.25</td>\n",
       "    </tr>\n",
       "    <tr>\n",
       "      <th>4</th>\n",
       "      <td>3.8462</td>\n",
       "      <td>52.0</td>\n",
       "      <td>6.281853</td>\n",
       "      <td>1.081081</td>\n",
       "      <td>565.0</td>\n",
       "      <td>2.181467</td>\n",
       "      <td>37.85</td>\n",
       "      <td>-122.25</td>\n",
       "    </tr>\n",
       "    <tr>\n",
       "      <th>...</th>\n",
       "      <td>...</td>\n",
       "      <td>...</td>\n",
       "      <td>...</td>\n",
       "      <td>...</td>\n",
       "      <td>...</td>\n",
       "      <td>...</td>\n",
       "      <td>...</td>\n",
       "      <td>...</td>\n",
       "    </tr>\n",
       "    <tr>\n",
       "      <th>20635</th>\n",
       "      <td>1.5603</td>\n",
       "      <td>25.0</td>\n",
       "      <td>5.045455</td>\n",
       "      <td>1.133333</td>\n",
       "      <td>845.0</td>\n",
       "      <td>2.560606</td>\n",
       "      <td>39.48</td>\n",
       "      <td>-121.09</td>\n",
       "    </tr>\n",
       "    <tr>\n",
       "      <th>20636</th>\n",
       "      <td>2.5568</td>\n",
       "      <td>18.0</td>\n",
       "      <td>6.114035</td>\n",
       "      <td>1.315789</td>\n",
       "      <td>356.0</td>\n",
       "      <td>3.122807</td>\n",
       "      <td>39.49</td>\n",
       "      <td>-121.21</td>\n",
       "    </tr>\n",
       "    <tr>\n",
       "      <th>20637</th>\n",
       "      <td>1.7000</td>\n",
       "      <td>17.0</td>\n",
       "      <td>5.205543</td>\n",
       "      <td>1.120092</td>\n",
       "      <td>1007.0</td>\n",
       "      <td>2.325635</td>\n",
       "      <td>39.43</td>\n",
       "      <td>-121.22</td>\n",
       "    </tr>\n",
       "    <tr>\n",
       "      <th>20638</th>\n",
       "      <td>1.8672</td>\n",
       "      <td>18.0</td>\n",
       "      <td>5.329513</td>\n",
       "      <td>1.171920</td>\n",
       "      <td>741.0</td>\n",
       "      <td>2.123209</td>\n",
       "      <td>39.43</td>\n",
       "      <td>-121.32</td>\n",
       "    </tr>\n",
       "    <tr>\n",
       "      <th>20639</th>\n",
       "      <td>2.3886</td>\n",
       "      <td>16.0</td>\n",
       "      <td>5.254717</td>\n",
       "      <td>1.162264</td>\n",
       "      <td>1387.0</td>\n",
       "      <td>2.616981</td>\n",
       "      <td>39.37</td>\n",
       "      <td>-121.24</td>\n",
       "    </tr>\n",
       "  </tbody>\n",
       "</table>\n",
       "<p>20640 rows × 8 columns</p>\n",
       "</div>"
      ],
      "text/plain": [
       "            0     1         2         3       4         5      6       7\n",
       "0      8.3252  41.0  6.984127  1.023810   322.0  2.555556  37.88 -122.23\n",
       "1      8.3014  21.0  6.238137  0.971880  2401.0  2.109842  37.86 -122.22\n",
       "2      7.2574  52.0  8.288136  1.073446   496.0  2.802260  37.85 -122.24\n",
       "3      5.6431  52.0  5.817352  1.073059   558.0  2.547945  37.85 -122.25\n",
       "4      3.8462  52.0  6.281853  1.081081   565.0  2.181467  37.85 -122.25\n",
       "...       ...   ...       ...       ...     ...       ...    ...     ...\n",
       "20635  1.5603  25.0  5.045455  1.133333   845.0  2.560606  39.48 -121.09\n",
       "20636  2.5568  18.0  6.114035  1.315789   356.0  3.122807  39.49 -121.21\n",
       "20637  1.7000  17.0  5.205543  1.120092  1007.0  2.325635  39.43 -121.22\n",
       "20638  1.8672  18.0  5.329513  1.171920   741.0  2.123209  39.43 -121.32\n",
       "20639  2.3886  16.0  5.254717  1.162264  1387.0  2.616981  39.37 -121.24\n",
       "\n",
       "[20640 rows x 8 columns]"
      ]
     },
     "execution_count": 12,
     "metadata": {},
     "output_type": "execute_result"
    }
   ],
   "source": [
    "dataset"
   ]
  },
  {
   "cell_type": "code",
   "execution_count": 13,
   "id": "4ab1c3cf-41d6-4e99-93a5-7884de34a672",
   "metadata": {},
   "outputs": [],
   "source": [
    "dataset.columns=df.feature_names"
   ]
  },
  {
   "cell_type": "code",
   "execution_count": 14,
   "id": "7f7b7335-33cc-41c3-806a-490019facc9c",
   "metadata": {},
   "outputs": [
    {
     "data": {
      "text/html": [
       "<div>\n",
       "<style scoped>\n",
       "    .dataframe tbody tr th:only-of-type {\n",
       "        vertical-align: middle;\n",
       "    }\n",
       "\n",
       "    .dataframe tbody tr th {\n",
       "        vertical-align: top;\n",
       "    }\n",
       "\n",
       "    .dataframe thead th {\n",
       "        text-align: right;\n",
       "    }\n",
       "</style>\n",
       "<table border=\"1\" class=\"dataframe\">\n",
       "  <thead>\n",
       "    <tr style=\"text-align: right;\">\n",
       "      <th></th>\n",
       "      <th>MedInc</th>\n",
       "      <th>HouseAge</th>\n",
       "      <th>AveRooms</th>\n",
       "      <th>AveBedrms</th>\n",
       "      <th>Population</th>\n",
       "      <th>AveOccup</th>\n",
       "      <th>Latitude</th>\n",
       "      <th>Longitude</th>\n",
       "    </tr>\n",
       "  </thead>\n",
       "  <tbody>\n",
       "    <tr>\n",
       "      <th>0</th>\n",
       "      <td>8.3252</td>\n",
       "      <td>41.0</td>\n",
       "      <td>6.984127</td>\n",
       "      <td>1.023810</td>\n",
       "      <td>322.0</td>\n",
       "      <td>2.555556</td>\n",
       "      <td>37.88</td>\n",
       "      <td>-122.23</td>\n",
       "    </tr>\n",
       "    <tr>\n",
       "      <th>1</th>\n",
       "      <td>8.3014</td>\n",
       "      <td>21.0</td>\n",
       "      <td>6.238137</td>\n",
       "      <td>0.971880</td>\n",
       "      <td>2401.0</td>\n",
       "      <td>2.109842</td>\n",
       "      <td>37.86</td>\n",
       "      <td>-122.22</td>\n",
       "    </tr>\n",
       "    <tr>\n",
       "      <th>2</th>\n",
       "      <td>7.2574</td>\n",
       "      <td>52.0</td>\n",
       "      <td>8.288136</td>\n",
       "      <td>1.073446</td>\n",
       "      <td>496.0</td>\n",
       "      <td>2.802260</td>\n",
       "      <td>37.85</td>\n",
       "      <td>-122.24</td>\n",
       "    </tr>\n",
       "    <tr>\n",
       "      <th>3</th>\n",
       "      <td>5.6431</td>\n",
       "      <td>52.0</td>\n",
       "      <td>5.817352</td>\n",
       "      <td>1.073059</td>\n",
       "      <td>558.0</td>\n",
       "      <td>2.547945</td>\n",
       "      <td>37.85</td>\n",
       "      <td>-122.25</td>\n",
       "    </tr>\n",
       "    <tr>\n",
       "      <th>4</th>\n",
       "      <td>3.8462</td>\n",
       "      <td>52.0</td>\n",
       "      <td>6.281853</td>\n",
       "      <td>1.081081</td>\n",
       "      <td>565.0</td>\n",
       "      <td>2.181467</td>\n",
       "      <td>37.85</td>\n",
       "      <td>-122.25</td>\n",
       "    </tr>\n",
       "  </tbody>\n",
       "</table>\n",
       "</div>"
      ],
      "text/plain": [
       "   MedInc  HouseAge  AveRooms  AveBedrms  Population  AveOccup  Latitude  \\\n",
       "0  8.3252      41.0  6.984127   1.023810       322.0  2.555556     37.88   \n",
       "1  8.3014      21.0  6.238137   0.971880      2401.0  2.109842     37.86   \n",
       "2  7.2574      52.0  8.288136   1.073446       496.0  2.802260     37.85   \n",
       "3  5.6431      52.0  5.817352   1.073059       558.0  2.547945     37.85   \n",
       "4  3.8462      52.0  6.281853   1.081081       565.0  2.181467     37.85   \n",
       "\n",
       "   Longitude  \n",
       "0    -122.23  \n",
       "1    -122.22  \n",
       "2    -122.24  \n",
       "3    -122.25  \n",
       "4    -122.25  "
      ]
     },
     "execution_count": 14,
     "metadata": {},
     "output_type": "execute_result"
    }
   ],
   "source": [
    "dataset.head()"
   ]
  },
  {
   "cell_type": "code",
   "execution_count": 15,
   "id": "5f997742-a386-4602-84ec-9ade1b806f54",
   "metadata": {},
   "outputs": [],
   "source": [
    "#independent and dependent features\n",
    "x=dataset\n",
    "y=df.target"
   ]
  },
  {
   "cell_type": "code",
   "execution_count": 17,
   "id": "ea6063e9-650e-4bad-b243-873aae053d8a",
   "metadata": {},
   "outputs": [
    {
     "data": {
      "text/plain": [
       "array([4.526, 3.585, 3.521, ..., 0.923, 0.847, 0.894])"
      ]
     },
     "execution_count": 17,
     "metadata": {},
     "output_type": "execute_result"
    }
   ],
   "source": [
    "y"
   ]
  },
  {
   "cell_type": "code",
   "execution_count": 67,
   "id": "ba3ecaab-6513-431a-8b4e-11a914f875ab",
   "metadata": {},
   "outputs": [],
   "source": [
    "#train test and split\n",
    "from sklearn.model_selection import train_test_split\n",
    "x_train,x_test,y_train,y_test=train_test_split(x,y,test_size=0.3,random_state=42)"
   ]
  },
  {
   "cell_type": "code",
   "execution_count": 22,
   "id": "01471827-f82b-41d2-9fc4-eb123379d069",
   "metadata": {},
   "outputs": [],
   "source": [
    "#implementing linear regression"
   ]
  },
  {
   "cell_type": "code",
   "execution_count": 68,
   "id": "46ddd3cd-53d9-488f-a088-b74f52d669c8",
   "metadata": {},
   "outputs": [],
   "source": [
    "#standarizing the dataset \n",
    "from sklearn.preprocessing import StandardScaler\n",
    "scaler=StandardScaler()"
   ]
  },
  {
   "cell_type": "code",
   "execution_count": 69,
   "id": "db8a89f5-cfaa-440c-b87e-8e169ff8c8e7",
   "metadata": {},
   "outputs": [],
   "source": [
    "x_train = scaler.fit_transform(x_train)\n",
    "x_test = scaler.transform(x_test)"
   ]
  },
  {
   "cell_type": "code",
   "execution_count": 70,
   "id": "f8aaff51-421a-4dec-bd1d-221b7d093ac1",
   "metadata": {},
   "outputs": [],
   "source": [
    "from sklearn.linear_model import LinearRegression\n",
    "#cross validation\n",
    "from sklearn.model_selection import cross_val_score"
   ]
  },
  {
   "cell_type": "code",
   "execution_count": 71,
   "id": "247e4770-5e46-453c-adbf-37261f333ad1",
   "metadata": {},
   "outputs": [
    {
     "data": {
      "text/html": [
       "<style>#sk-container-id-3 {color: black;background-color: white;}#sk-container-id-3 pre{padding: 0;}#sk-container-id-3 div.sk-toggleable {background-color: white;}#sk-container-id-3 label.sk-toggleable__label {cursor: pointer;display: block;width: 100%;margin-bottom: 0;padding: 0.3em;box-sizing: border-box;text-align: center;}#sk-container-id-3 label.sk-toggleable__label-arrow:before {content: \"▸\";float: left;margin-right: 0.25em;color: #696969;}#sk-container-id-3 label.sk-toggleable__label-arrow:hover:before {color: black;}#sk-container-id-3 div.sk-estimator:hover label.sk-toggleable__label-arrow:before {color: black;}#sk-container-id-3 div.sk-toggleable__content {max-height: 0;max-width: 0;overflow: hidden;text-align: left;background-color: #f0f8ff;}#sk-container-id-3 div.sk-toggleable__content pre {margin: 0.2em;color: black;border-radius: 0.25em;background-color: #f0f8ff;}#sk-container-id-3 input.sk-toggleable__control:checked~div.sk-toggleable__content {max-height: 200px;max-width: 100%;overflow: auto;}#sk-container-id-3 input.sk-toggleable__control:checked~label.sk-toggleable__label-arrow:before {content: \"▾\";}#sk-container-id-3 div.sk-estimator input.sk-toggleable__control:checked~label.sk-toggleable__label {background-color: #d4ebff;}#sk-container-id-3 div.sk-label input.sk-toggleable__control:checked~label.sk-toggleable__label {background-color: #d4ebff;}#sk-container-id-3 input.sk-hidden--visually {border: 0;clip: rect(1px 1px 1px 1px);clip: rect(1px, 1px, 1px, 1px);height: 1px;margin: -1px;overflow: hidden;padding: 0;position: absolute;width: 1px;}#sk-container-id-3 div.sk-estimator {font-family: monospace;background-color: #f0f8ff;border: 1px dotted black;border-radius: 0.25em;box-sizing: border-box;margin-bottom: 0.5em;}#sk-container-id-3 div.sk-estimator:hover {background-color: #d4ebff;}#sk-container-id-3 div.sk-parallel-item::after {content: \"\";width: 100%;border-bottom: 1px solid gray;flex-grow: 1;}#sk-container-id-3 div.sk-label:hover label.sk-toggleable__label {background-color: #d4ebff;}#sk-container-id-3 div.sk-serial::before {content: \"\";position: absolute;border-left: 1px solid gray;box-sizing: border-box;top: 0;bottom: 0;left: 50%;z-index: 0;}#sk-container-id-3 div.sk-serial {display: flex;flex-direction: column;align-items: center;background-color: white;padding-right: 0.2em;padding-left: 0.2em;position: relative;}#sk-container-id-3 div.sk-item {position: relative;z-index: 1;}#sk-container-id-3 div.sk-parallel {display: flex;align-items: stretch;justify-content: center;background-color: white;position: relative;}#sk-container-id-3 div.sk-item::before, #sk-container-id-3 div.sk-parallel-item::before {content: \"\";position: absolute;border-left: 1px solid gray;box-sizing: border-box;top: 0;bottom: 0;left: 50%;z-index: -1;}#sk-container-id-3 div.sk-parallel-item {display: flex;flex-direction: column;z-index: 1;position: relative;background-color: white;}#sk-container-id-3 div.sk-parallel-item:first-child::after {align-self: flex-end;width: 50%;}#sk-container-id-3 div.sk-parallel-item:last-child::after {align-self: flex-start;width: 50%;}#sk-container-id-3 div.sk-parallel-item:only-child::after {width: 0;}#sk-container-id-3 div.sk-dashed-wrapped {border: 1px dashed gray;margin: 0 0.4em 0.5em 0.4em;box-sizing: border-box;padding-bottom: 0.4em;background-color: white;}#sk-container-id-3 div.sk-label label {font-family: monospace;font-weight: bold;display: inline-block;line-height: 1.2em;}#sk-container-id-3 div.sk-label-container {text-align: center;}#sk-container-id-3 div.sk-container {/* jupyter's `normalize.less` sets `[hidden] { display: none; }` but bootstrap.min.css set `[hidden] { display: none !important; }` so we also need the `!important` here to be able to override the default hidden behavior on the sphinx rendered scikit-learn.org. See: https://github.com/scikit-learn/scikit-learn/issues/21755 */display: inline-block !important;position: relative;}#sk-container-id-3 div.sk-text-repr-fallback {display: none;}</style><div id=\"sk-container-id-3\" class=\"sk-top-container\"><div class=\"sk-text-repr-fallback\"><pre>LinearRegression()</pre><b>In a Jupyter environment, please rerun this cell to show the HTML representation or trust the notebook. <br />On GitHub, the HTML representation is unable to render, please try loading this page with nbviewer.org.</b></div><div class=\"sk-container\" hidden><div class=\"sk-item\"><div class=\"sk-estimator sk-toggleable\"><input class=\"sk-toggleable__control sk-hidden--visually\" id=\"sk-estimator-id-3\" type=\"checkbox\" checked><label for=\"sk-estimator-id-3\" class=\"sk-toggleable__label sk-toggleable__label-arrow\">LinearRegression</label><div class=\"sk-toggleable__content\"><pre>LinearRegression()</pre></div></div></div></div></div>"
      ],
      "text/plain": [
       "LinearRegression()"
      ]
     },
     "execution_count": 71,
     "metadata": {},
     "output_type": "execute_result"
    }
   ],
   "source": [
    "regression=LinearRegression()\n",
    "regression.fit(x_train,y_train)"
   ]
  },
  {
   "cell_type": "code",
   "execution_count": 72,
   "id": "85543b3f-ce97-4779-b7ef-6f6ee64646a2",
   "metadata": {},
   "outputs": [],
   "source": [
    "mse=cross_val_score(regression,x_train,y_train,scoring='neg_mean_squared_error',cv=10)"
   ]
  },
  {
   "cell_type": "code",
   "execution_count": 73,
   "id": "0dd284bd-3d7c-4d98-8658-eebe7bec2aa6",
   "metadata": {},
   "outputs": [
    {
     "data": {
      "text/plain": [
       "-0.5257104326777"
      ]
     },
     "execution_count": 73,
     "metadata": {},
     "output_type": "execute_result"
    }
   ],
   "source": [
    "np.mean(mse)"
   ]
  },
  {
   "cell_type": "code",
   "execution_count": 74,
   "id": "cc0b0e48-f915-4a02-a964-435287d782b9",
   "metadata": {},
   "outputs": [],
   "source": [
    "#prediction\n",
    "reg_pred=regression.predict(x_test)"
   ]
  },
  {
   "cell_type": "code",
   "execution_count": 75,
   "id": "403cd84c-7cb9-45b1-8460-376a7ffdee7e",
   "metadata": {},
   "outputs": [
    {
     "data": {
      "text/plain": [
       "array([0.72604907, 1.76743383, 2.71092161, ..., 2.07465531, 1.57371395,\n",
       "       1.82744133])"
      ]
     },
     "execution_count": 75,
     "metadata": {},
     "output_type": "execute_result"
    }
   ],
   "source": [
    "reg_pred"
   ]
  },
  {
   "cell_type": "code",
   "execution_count": 77,
   "id": "4f61b6f3-b1a8-4070-94f6-2db8dda56373",
   "metadata": {},
   "outputs": [
    {
     "data": {
      "text/plain": [
       "<seaborn.axisgrid.FacetGrid at 0x25cc6282f90>"
      ]
     },
     "execution_count": 77,
     "metadata": {},
     "output_type": "execute_result"
    },
    {
     "data": {
      "image/png": "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",
      "text/plain": [
       "<Figure size 500x500 with 1 Axes>"
      ]
     },
     "metadata": {},
     "output_type": "display_data"
    }
   ],
   "source": [
    "import seaborn as sns \n",
    "sns.displot(reg_pred-y_test,kind='kde',color='green')"
   ]
  },
  {
   "cell_type": "code",
   "execution_count": 78,
   "id": "9ccd0443-ab85-4799-8e44-9da26e9600b1",
   "metadata": {},
   "outputs": [],
   "source": [
    "from sklearn.metrics import r2_score"
   ]
  },
  {
   "cell_type": "code",
   "execution_count": 79,
   "id": "218da7f3-6ec9-4674-a87e-07095f77d1f5",
   "metadata": {},
   "outputs": [],
   "source": [
    "score=r2_score(reg_pred,y_test)"
   ]
  },
  {
   "cell_type": "code",
   "execution_count": 80,
   "id": "745c8421-b200-4d98-a5d7-11837e4e1209",
   "metadata": {},
   "outputs": [
    {
     "data": {
      "text/plain": [
       "0.34513393809439563"
      ]
     },
     "execution_count": 80,
     "metadata": {},
     "output_type": "execute_result"
    }
   ],
   "source": [
    "score"
   ]
  },
  {
   "cell_type": "code",
   "execution_count": null,
   "id": "3e148ffc-5501-44b5-924b-1eace940fb1e",
   "metadata": {},
   "outputs": [],
   "source": []
  },

 "metadata": {
  "kernelspec": {
   "display_name": "Python 3 (ipykernel)",
   "language": "python",
   "name": "python3"
  },
  "language_info": {
   "codemirror_mode": {
    "name": "ipython",
    "version": 3
   },
   "file_extension": ".py",
   "mimetype": "text/x-python",
   "name": "python",
   "nbconvert_exporter": "python",
   "pygments_lexer": "ipython3",
   "version": "3.11.7"
  }
 },
 "nbformat": 4,
 "nbformat_minor": 5
}
